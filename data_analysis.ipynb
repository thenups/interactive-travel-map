{
 "cells": [
  {
   "cell_type": "code",
   "execution_count": 12,
   "metadata": {},
   "outputs": [],
   "source": [
    "import pandas as pd\n",
    "from datetime import datetime"
   ]
  },
  {
   "cell_type": "code",
   "execution_count": 2,
   "metadata": {},
   "outputs": [
    {
     "data": {
      "text/html": [
       "<div>\n",
       "<style scoped>\n",
       "    .dataframe tbody tr th:only-of-type {\n",
       "        vertical-align: middle;\n",
       "    }\n",
       "\n",
       "    .dataframe tbody tr th {\n",
       "        vertical-align: top;\n",
       "    }\n",
       "\n",
       "    .dataframe thead th {\n",
       "        text-align: right;\n",
       "    }\n",
       "</style>\n",
       "<table border=\"1\" class=\"dataframe\">\n",
       "  <thead>\n",
       "    <tr style=\"text-align: right;\">\n",
       "      <th></th>\n",
       "      <th>track</th>\n",
       "      <th>time</th>\n",
       "      <th>alt</th>\n",
       "      <th>lat</th>\n",
       "      <th>long</th>\n",
       "      <th>city</th>\n",
       "      <th>state</th>\n",
       "      <th>country</th>\n",
       "    </tr>\n",
       "  </thead>\n",
       "  <tbody>\n",
       "    <tr>\n",
       "      <th>0</th>\n",
       "      <td>0</td>\n",
       "      <td>2019-05-08 06:57:15+00:00</td>\n",
       "      <td>741.08</td>\n",
       "      <td>36.111288</td>\n",
       "      <td>-115.261516</td>\n",
       "      <td>Spring Valley</td>\n",
       "      <td>Nevada</td>\n",
       "      <td>US</td>\n",
       "    </tr>\n",
       "    <tr>\n",
       "      <th>1</th>\n",
       "      <td>0</td>\n",
       "      <td>2019-05-08 15:27:00+00:00</td>\n",
       "      <td>754.07</td>\n",
       "      <td>36.111416</td>\n",
       "      <td>-115.261345</td>\n",
       "      <td>Spring Valley</td>\n",
       "      <td>Nevada</td>\n",
       "      <td>US</td>\n",
       "    </tr>\n",
       "    <tr>\n",
       "      <th>2</th>\n",
       "      <td>0</td>\n",
       "      <td>2019-05-08 15:27:08+00:00</td>\n",
       "      <td>753.00</td>\n",
       "      <td>36.111426</td>\n",
       "      <td>-115.261353</td>\n",
       "      <td>Spring Valley</td>\n",
       "      <td>Nevada</td>\n",
       "      <td>US</td>\n",
       "    </tr>\n",
       "    <tr>\n",
       "      <th>3</th>\n",
       "      <td>0</td>\n",
       "      <td>2019-05-08 15:27:09+00:00</td>\n",
       "      <td>753.00</td>\n",
       "      <td>36.111426</td>\n",
       "      <td>-115.261353</td>\n",
       "      <td>Spring Valley</td>\n",
       "      <td>Nevada</td>\n",
       "      <td>US</td>\n",
       "    </tr>\n",
       "    <tr>\n",
       "      <th>4</th>\n",
       "      <td>0</td>\n",
       "      <td>2019-05-08 15:28:09+00:00</td>\n",
       "      <td>750.00</td>\n",
       "      <td>36.111330</td>\n",
       "      <td>-115.261409</td>\n",
       "      <td>Spring Valley</td>\n",
       "      <td>Nevada</td>\n",
       "      <td>US</td>\n",
       "    </tr>\n",
       "  </tbody>\n",
       "</table>\n",
       "</div>"
      ],
      "text/plain": [
       "   track                       time     alt        lat        long  \\\n",
       "0      0  2019-05-08 06:57:15+00:00  741.08  36.111288 -115.261516   \n",
       "1      0  2019-05-08 15:27:00+00:00  754.07  36.111416 -115.261345   \n",
       "2      0  2019-05-08 15:27:08+00:00  753.00  36.111426 -115.261353   \n",
       "3      0  2019-05-08 15:27:09+00:00  753.00  36.111426 -115.261353   \n",
       "4      0  2019-05-08 15:28:09+00:00  750.00  36.111330 -115.261409   \n",
       "\n",
       "            city   state country  \n",
       "0  Spring Valley  Nevada      US  \n",
       "1  Spring Valley  Nevada      US  \n",
       "2  Spring Valley  Nevada      US  \n",
       "3  Spring Valley  Nevada      US  \n",
       "4  Spring Valley  Nevada      US  "
      ]
     },
     "execution_count": 2,
     "metadata": {},
     "output_type": "execute_result"
    }
   ],
   "source": [
    "# Create DF from CSV file\n",
    "df = pd.read_csv('data/gps_with_location_info.csv')\n",
    "df = df.drop(['Unnamed: 0'], axis=1) #drop index column\n",
    "df.head()"
   ]
  },
  {
   "cell_type": "code",
   "execution_count": 16,
   "metadata": {},
   "outputs": [
    {
     "data": {
      "text/plain": [
       "dtype('O')"
      ]
     },
     "execution_count": 16,
     "metadata": {},
     "output_type": "execute_result"
    }
   ],
   "source": [
    "Use pd.to_datetime():\n",
    "\n",
    "df['time'] = pd.to_datetime(df['tm'])"
   ]
  },
  {
   "cell_type": "code",
   "execution_count": 17,
   "metadata": {},
   "outputs": [
    {
     "data": {
      "text/plain": [
       "'2019-05-08 06:57:15+00:00'"
      ]
     },
     "execution_count": 17,
     "metadata": {},
     "output_type": "execute_result"
    }
   ],
   "source": [
    "df['time'][0]"
   ]
  },
  {
   "cell_type": "code",
   "execution_count": 6,
   "metadata": {},
   "outputs": [],
   "source": [
    "dfValues = dfValues.diff()"
   ]
  },
  {
   "cell_type": "code",
   "execution_count": 5,
   "metadata": {},
   "outputs": [
    {
     "data": {
      "text/plain": [
       "track      int64\n",
       "alt      float64\n",
       "lat      float64\n",
       "long     float64\n",
       "dtype: object"
      ]
     },
     "execution_count": 5,
     "metadata": {},
     "output_type": "execute_result"
    }
   ],
   "source": [
    "# Create new Df with only values that need to be differentiated\n",
    "dfValues = df[['track','alt','lat','long']].copy()\n",
    "dfValues.dtypes"
   ]
  },
  {
   "cell_type": "code",
   "execution_count": 11,
   "metadata": {},
   "outputs": [
    {
     "data": {
      "text/plain": [
       "str"
      ]
     },
     "execution_count": 11,
     "metadata": {},
     "output_type": "execute_result"
    }
   ],
   "source": [
    "type(df['time'][0])"
   ]
  },
  {
   "cell_type": "code",
   "execution_count": null,
   "metadata": {},
   "outputs": [],
   "source": [
    "old[['A', 'C', 'D']].copy()"
   ]
  },
  {
   "cell_type": "code",
   "execution_count": null,
   "metadata": {},
   "outputs": [],
   "source": []
  },
  {
   "cell_type": "code",
   "execution_count": null,
   "metadata": {},
   "outputs": [],
   "source": [
    "# Merge Address DF with original DF\n",
    "dfFinal = df.merge(dfAddress, left_index=True, right_index=True)\n"
   ]
  },
  {
   "cell_type": "code",
   "execution_count": null,
   "metadata": {},
   "outputs": [],
   "source": [
    "# Find difference between trailing rows\n",
    "dfTimeSortedDiff = dfTimeSorted.diff()\n",
    "dfTimeSortedDiff.head()"
   ]
  },
  {
   "cell_type": "code",
   "execution_count": null,
   "metadata": {},
   "outputs": [],
   "source": [
    "# Merge DFs and rename columns\n",
    "dff = dfTimeSorted.merge(dfTimeSortedDiff, left_index=True, right_index=True)\n",
    "dff.columns = ['TrackNo','Time', 'Latitude', 'Longitude','Elevation','NewTrack','TimeDiff','LatitudeDiff', 'LongitudeDiff', 'ElevationDiff']\n",
    "dff['NewTrack'] = dff['NewTrack'].fillna(1).astype(int)\n",
    "dff.head()"
   ]
  },
  {
   "cell_type": "code",
   "execution_count": null,
   "metadata": {},
   "outputs": [],
   "source": [
    "dff.loc[(dff['LatitudeDiff'] < 0.0009) & (dff['LatitudeDiff'] > -0.0009) & (dff['LongitudeDiff'] < 0.0009) & (dff['LongitudeDiff'] > -0.0009)]"
   ]
  },
  {
   "cell_type": "code",
   "execution_count": null,
   "metadata": {},
   "outputs": [],
   "source": [
    "dff['NewTrack'] = dff['NewTrack'].map({'0': 'NaN'})"
   ]
  },
  {
   "cell_type": "code",
   "execution_count": null,
   "metadata": {},
   "outputs": [],
   "source": [
    "# Search for the coordinates and unpack resulting address dictionary\n",
    "addy = json.loads(json.dumps(rg.search(coordAU)[0]))"
   ]
  },
  {
   "cell_type": "code",
   "execution_count": null,
   "metadata": {},
   "outputs": [],
   "source": []
  }
 ],
 "metadata": {
  "kernelspec": {
   "display_name": "Python 3",
   "language": "python",
   "name": "python3"
  },
  "language_info": {
   "codemirror_mode": {
    "name": "ipython",
    "version": 3
   },
   "file_extension": ".py",
   "mimetype": "text/x-python",
   "name": "python",
   "nbconvert_exporter": "python",
   "pygments_lexer": "ipython3",
   "version": "3.7.7"
  }
 },
 "nbformat": 4,
 "nbformat_minor": 4
}
